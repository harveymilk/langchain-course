{
 "cells": [
  {
   "cell_type": "code",
   "execution_count": 1,
   "metadata": {},
   "outputs": [
    {
     "data": {
      "text/plain": [
       "True"
      ]
     },
     "execution_count": 1,
     "metadata": {},
     "output_type": "execute_result"
    }
   ],
   "source": [
    "from dotenv import load_dotenv\n",
    "\n",
    "load_dotenv()"
   ]
  },
  {
   "cell_type": "code",
   "execution_count": 2,
   "metadata": {},
   "outputs": [],
   "source": [
    "\n",
    "from langchain_openai import OpenAI, OpenAIEmbeddings\n",
    "from langchain_deeplake import DeeplakeVectorStore as DeepLake\n",
    "from langchain_text_splitters import RecursiveCharacterTextSplitter\n",
    "from langchain.chains import RetrievalQA"
   ]
  },
  {
   "cell_type": "code",
   "execution_count": 4,
   "metadata": {},
   "outputs": [],
   "source": [
    "# Before executing the following code, make sure to have your\n",
    "# Activeloop key saved in the “ACTIVELOOP_TOKEN” environment variable.\n",
    "\n",
    "# Instantiate the LLM and embeddings models\n",
    "llm = OpenAI(model=\"gpt-3.5-turbo-instruct\", temperature=0)\n",
    "embeddings = OpenAIEmbeddings(model=\"text-embedding-ada-002\")\n",
    "\n",
    "# Create our documents\n",
    "texts = [\n",
    "    \"Napoleon Bonaparte was born in 15 August 1769\",\n",
    "    \"Louis XIV was born in 5 September 1638\"\n",
    "]\n",
    "text_splitter = RecursiveCharacterTextSplitter(chunk_size=1000, chunk_overlap=0)\n",
    "docs = text_splitter.create_documents(texts)\n",
    "\n",
    "# Create Deep Lake dataset\n",
    "my_activeloop_org_id = \"sbeurnier10\"\n",
    "my_activeloop_dataset_name = \"langchain_course_from_zero_to_hero\"\n",
    "dataset_path = f\"hub://{my_activeloop_org_id}/{my_activeloop_dataset_name}\"\n",
    "db = DeepLake(dataset_path=dataset_path, embedding_function=embeddings)\n",
    "\n",
    "# Add documents to our Deep Lake dataset\n",
    "db.add_documents(docs)\n"
   ]
  },
  {
   "cell_type": "code",
   "execution_count": null,
   "metadata": {},
   "outputs": [
    {
     "name": "stdout",
     "output_type": "stream",
     "text": [
      "\n",
      "\n",
      "\u001b[1m> Entering new AgentExecutor chain...\u001b[0m\n",
      "\u001b[32;1m\u001b[1;3m I should use the Retrieval QA System to find the answer.\n",
      "Action: Retrieval QA System\n",
      "Action Input: \"When was Napoleone born?\"\u001b[0m\n",
      "Observation: \u001b[36;1m\u001b[1;3m\n",
      "Napoleon Bonaparte was born in 15 August 1769.\u001b[0m\n",
      "Thought:\u001b[32;1m\u001b[1;3m I now know the final answer.\n",
      "Final Answer: Napoleon Bonaparte was born in 15 August 1769.\u001b[0m\n",
      "\n",
      "\u001b[1m> Finished chain.\u001b[0m\n",
      "Napoleon Bonaparte was born in 15 August 1769.\n"
     ]
    }
   ],
   "source": [
    "retrieval_qa = RetrievalQA.from_chain_type(\n",
    "\tllm=llm,\n",
    "\tchain_type=\"stuff\",\n",
    "\tretriever=db.as_retriever()\n",
    ")\n",
    "\n",
    "from langchain.agents import initialize_agent, Tool\n",
    "from langchain.agents import AgentType\n",
    "\n",
    "tools = [\n",
    "    Tool(\n",
    "        name=\"Retrieval QA System\",\n",
    "        func=retrieval_qa.run,\n",
    "        description=\"Useful for answering questions.\"\n",
    "    ),\n",
    "]\n",
    "# Has a prompt that tells the LLM the various tools it can use and how to use them with proper input formatting and whatnot. Agent chooses tool and uses observation to either choose another tool or return final answer.\n",
    "# Zero-shot means that the agent is not trained on any specific task, it just uses the tools available to it.\n",
    "# React means that the agent can react to the output of the tools and use them to answer the question.\n",
    "# Description means that the agent has a description of what each tool does and how to use it.\n",
    "agent = initialize_agent(\n",
    "\ttools,\n",
    "\tllm,\n",
    "\tagent=AgentType.ZERO_SHOT_REACT_DESCRIPTION,\n",
    "\tverbose=True\n",
    ")\n",
    "\n",
    "response = agent.run(\"When was Napoleone born?\")\n",
    "print(response)"
   ]
  },
  {
   "cell_type": "code",
   "execution_count": 7,
   "metadata": {},
   "outputs": [
    {
     "data": {
      "text/plain": [
       "['cbb1f397-43ed-4dd1-a0ff-8fd07e4651a3',\n",
       " 'e9699f03-6ba0-492c-9337-99dee1997550']"
      ]
     },
     "execution_count": 7,
     "metadata": {},
     "output_type": "execute_result"
    }
   ],
   "source": [
    "# load the existing Deep Lake dataset and specify the embedding function\n",
    "db = DeepLake(dataset_path=dataset_path, embedding_function=embeddings)\n",
    "\n",
    "# create new documents\n",
    "texts = [\n",
    "    \"Lady Gaga was born in 28 March 1986\",\n",
    "    \"Michael Jeffrey Jordan was born in 17 February 1963\"\n",
    "]\n",
    "text_splitter = RecursiveCharacterTextSplitter(chunk_size=1000, chunk_overlap=0)\n",
    "docs = text_splitter.create_documents(texts)\n",
    "\n",
    "# add documents to our Deep Lake dataset\n",
    "db.add_documents(docs)"
   ]
  },
  {
   "cell_type": "code",
   "execution_count": 10,
   "metadata": {},
   "outputs": [
    {
     "name": "stdout",
     "output_type": "stream",
     "text": [
      "\n",
      "\n",
      "\u001b[1m> Entering new AgentExecutor chain...\u001b[0m\n",
      "\u001b[32;1m\u001b[1;3m I should use a retrieval QA system to find the answer.\n",
      "Action: Retrieval QA System\n",
      "Action Input: \"When was Michael Jordan born?\"\u001b[0m\n",
      "Observation: \u001b[36;1m\u001b[1;3m Michael Jordan was born on 17 February 1963.\u001b[0m\n",
      "Thought:\u001b[32;1m\u001b[1;3m I now know the final answer.\n",
      "Final Answer: Michael Jordan was born on 17 February 1963.\u001b[0m\n",
      "\n",
      "\u001b[1m> Finished chain.\u001b[0m\n",
      "Michael Jordan was born on 17 February 1963.\n"
     ]
    }
   ],
   "source": [
    "llm = OpenAI(model=\"gpt-3.5-turbo-instruct\", temperature=0)\n",
    "\n",
    "# create a retriever from the db\n",
    "retrieval_qa = RetrievalQA.from_chain_type(\n",
    "\tllm=llm, chain_type=\"stuff\", retriever=db.as_retriever()\n",
    ")\n",
    "\n",
    "# instantiate a tool that uses the retriever\n",
    "tools = [\n",
    "    Tool(\n",
    "        name=\"Retrieval QA System\",\n",
    "        func=retrieval_qa.run,\n",
    "        description=\"Useful for answering questions.\"\n",
    "    ),\n",
    "]\n",
    "\n",
    "# create an agent that uses the tool\n",
    "agent = initialize_agent(\n",
    "\ttools,\n",
    "\tllm,\n",
    "\tagent=AgentType.ZERO_SHOT_REACT_DESCRIPTION,\n",
    "\tverbose=True\n",
    ")\n",
    "response = agent.run(\"When was Michael Jordan born?\")\n",
    "print(response)"
   ]
  },
  {
   "cell_type": "code",
   "execution_count": 3,
   "metadata": {},
   "outputs": [],
   "source": [
    "\n",
    "from langchain_openai import OpenAI\n",
    "\n",
    "from langchain.agents import AgentType\n",
    "from langchain.agents import load_tools\n",
    "from langchain.agents import initialize_agent\n",
    "\n",
    "from langchain.agents import Tool\n",
    "from langchain.utilities import GoogleSearchAPIWrapper"
   ]
  },
  {
   "cell_type": "code",
   "execution_count": 6,
   "metadata": {},
   "outputs": [],
   "source": [
    "search = GoogleSearchAPIWrapper()\n",
    "llm = OpenAI(model=\"gpt-3.5-turbo-instruct\", temperature=0)"
   ]
  },
  {
   "cell_type": "code",
   "execution_count": 7,
   "metadata": {},
   "outputs": [
    {
     "name": "stderr",
     "output_type": "stream",
     "text": [
      "/var/folders/0h/1c3lg1350lq00b657b2_2rnm0000gn/T/ipykernel_2126/1136267672.py:9: LangChainDeprecationWarning: LangChain agents will continue to be supported, but it is recommended for new use cases to be built with LangGraph. LangGraph offers a more flexible and full-featured framework for building agents, including support for tool-calling, persistence of state, and human-in-the-loop workflows. For details, refer to the `LangGraph documentation <https://langchain-ai.github.io/langgraph/>`_ as well as guides for `Migrating from AgentExecutor <https://python.langchain.com/docs/how_to/migrate_agent/>`_ and LangGraph's `Pre-built ReAct agent <https://langchain-ai.github.io/langgraph/how-tos/create-react-agent/>`_.\n",
      "  agent = initialize_agent(tools,\n",
      "/var/folders/0h/1c3lg1350lq00b657b2_2rnm0000gn/T/ipykernel_2126/1136267672.py:15: LangChainDeprecationWarning: The method `Chain.__call__` was deprecated in langchain 0.1.0 and will be removed in 1.0. Use :meth:`~invoke` instead.\n",
      "  response = agent(\"What's the latest news about the Mars rover?\")\n"
     ]
    },
    {
     "name": "stdout",
     "output_type": "stream",
     "text": [
      "\n",
      "\n",
      "\u001b[1m> Entering new AgentExecutor chain...\u001b[0m\n",
      "\u001b[32;1m\u001b[1;3m I should search for the latest news about the Mars rover.\n",
      "Action: google-search\n",
      "Action Input: \"Mars rover news\"\u001b[0m\n",
      "Observation: \u001b[36;1m\u001b[1;3mNASA's Curiosity rover, currently exploring Gale crater on Mars, is providing new details about how the ancient Martian climate went from potentially suitable ... Jun 23, 2025 ... NASA's Curiosity Mars rover viewed this low ridge, which looks a bit like a crumbling curb, on May 16. Scientists think the hardened edges of ... Feb 1, 2025 ... New capabilities allow the rover to do science with less energy from its batteries. Thirteen years since Curiosity landed on Mars, ... Mar 24, 2025 ... Scientists analyzing pulverized rock onboard NASA's Curiosity rover have found the largest organic compounds on the Red Planet to date. Apr 18, 2025 ... Funding: NASA, Canadian Space Agency, Science and Technology Funding Council of the United Kingdom. —Adapted from a news article first published ... Jun 2, 2025 ... The Mars Rover Design Team at Missouri University of Science and Technology has won the 2025 University Rover Challenge. Jun 25, 2025 ... ... news release. e2-pia26558-curiosity-views-a-fractured-boxwork-ridge- NASA's Curiosity rover took images of ridges that scientists think may ... Mar 5, 2025 ... Mars expert Roger Wiens and his team, including the rover Perseverance, discovered fascinating rocks incorporating kaolinite and spinel on Mars' surface. Apr 21, 2021 ... Press Mentions · Related Links · Related Topics · Related Articles · More MIT News. Jul 5, 2025 ... Curiosity rover provides new insights into how Mars became uninhabitable ... news updates in your email inbox. Back to top. Get in touch. Contact ...\u001b[0m\n",
      "Thought:\u001b[32;1m\u001b[1;3m I should read through the different articles to get a better understanding of the latest news about the Mars rover.\n",
      "Action: google-search\n",
      "Action Input: \"Mars rover latest news\"\u001b[0m\n",
      "Observation: \u001b[36;1m\u001b[1;3mClay Minerals From Mars' Most Ancient Past? 2 min read. Recent detections of clay-bearing bedrock on Jezero's crater rim have the Perseverance Science Team ... Nov 18, 2024 ... It will soon leave behind Gediz Vallis channel, an area wrapped in mystery. How the channel formed so late during a transition to a drier ... These updates are provided by self-selected Mars Science Laboratory mission team members who love to share what Curiosity is doing with the public. Jun 23, 2025 ... Delivered straight to your inbox. Frequency: Email Groups. Latest News. Daily. Weekly. Monthly. Sign Up. “That's really surprising,” said ... Feb 1, 2025 ... New capabilities allow the rover to do science with less energy from its batteries. Thirteen years since Curiosity landed on Mars, ... Jun 20, 2025 ... Why It's Important. Perseverance may look similar to Curiosity – the NASA rover that's been exploring Mars since 2012 – but the latest rover's ... Apr 18, 2025 ... Drilling solves mystery of missing carbonate on Mars. NASA's Mars rover Curiosity ... Latest News. Closeup view of panelists on stage at the ... Apr 24, 2025 ... From black holes to Mars rovers—get the latest NASA JPL updates at your pace. Frequency: Email Groups. Latest News. Daily. Weekly. Monthly. Sign ... This account has been archived. Follow @NASAMars to get the latest updates on the Curiosity rover's mission. Apr 10, 2025 ... ... Latest News. Daily. Weekly. Monthly. Sign Up. During a flick maneuver, the sample handling arm — a little robotic arm in the rover's belly ...\u001b[0m\n",
      "Thought:\u001b[32;1m\u001b[1;3m I should also check NASA's official website for the latest news and updates on the Mars rover.\n",
      "Action: google-search\n",
      "Action Input: \"NASA Mars rover latest news\"\u001b[0m\n",
      "Observation: \u001b[36;1m\u001b[1;3mClay Minerals From Mars' Most Ancient Past? 2 min read. Recent detections of clay-bearing bedrock on Jezero's crater rim have the Perseverance Science Team ... Nov 18, 2024 ... Use your mouse to explore this 360-degree view of Gediz Vallis channel, a region of Mars that NASA's Curiosity rover surveyed before heading ... Feb 1, 2025 ... New capabilities allow the rover to do science with less energy from its batteries. Thirteen years since Curiosity landed on Mars, ... May 21, 2025 ... ... News. Galleries. Events. Visit. Topics. JPL Logo. Mars .3 min read ... rover is the borehole made when Perseverance collected its latest sample. These updates are provided by self-selected Mars Science Laboratory mission team members who love to share what Curiosity is doing with the public. Jun 23, 2025 ... New images from NASA's Curiosity Mars rover ... Delivered straight to your inbox. Frequency: Email Groups. Latest News. Daily. Weekly. Monthly. Here's the Image of the Week as voted on by the public. Check out the latest raw images below, and \"Like\" your favorites. 2 days ago ... New capabilities allow the rover to do science with less energy from its batteries. Thirteen years since Curiosity landed on Mars, engineers are ... This account has been archived. Follow @NASAMars to get the latest updates on the Curiosity rover's mission. Apr 24, 2025 ... From black holes to Mars rovers—get the latest NASA JPL updates at your pace. Frequency: Email Groups. Latest News. Daily. Weekly. Monthly. Sign ...\u001b[0m\n",
      "Thought:\u001b[32;1m\u001b[1;3m After reading through the latest news and updates, I now have a better understanding of the current status of the Mars rover.\n",
      "Final Answer: The latest news about the Mars rover includes new discoveries and updates on its mission, such as finding clay minerals and solving mysteries about the planet's past. NASA's official website and other news sources provide the most up-to-date information on the rover's activities.\u001b[0m\n",
      "\n",
      "\u001b[1m> Finished chain.\u001b[0m\n",
      "The latest news about the Mars rover includes new discoveries and updates on its mission, such as finding clay minerals and solving mysteries about the planet's past. NASA's official website and other news sources provide the most up-to-date information on the rover's activities.\n"
     ]
    }
   ],
   "source": [
    "tools = [\n",
    "    Tool(\n",
    "        name = \"google-search\",\n",
    "        func=search.run,\n",
    "        description=\"useful for when you need to search google to answer questions about current events\"\n",
    "    )\n",
    "]\n",
    "\n",
    "agent = initialize_agent(tools, \n",
    "                         llm, \n",
    "                         agent=AgentType.ZERO_SHOT_REACT_DESCRIPTION, \n",
    "                         verbose=True,\n",
    "                         max_iterations=6)\n",
    "\n",
    "response = agent(\"What's the latest news about the Mars rover?\")\n",
    "print(response['output'])"
   ]
  }
 ],
 "metadata": {
  "kernelspec": {
   "display_name": "jump",
   "language": "python",
   "name": "python3"
  },
  "language_info": {
   "codemirror_mode": {
    "name": "ipython",
    "version": 3
   },
   "file_extension": ".py",
   "mimetype": "text/x-python",
   "name": "python",
   "nbconvert_exporter": "python",
   "pygments_lexer": "ipython3",
   "version": "3.10.18"
  }
 },
 "nbformat": 4,
 "nbformat_minor": 2
}
