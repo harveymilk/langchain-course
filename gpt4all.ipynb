{
 "cells": [
  {
   "cell_type": "code",
   "execution_count": 6,
   "metadata": {},
   "outputs": [
    {
     "name": "stderr",
     "output_type": "stream",
     "text": [
      "569059it [01:46, 5366.90it/s]\n"
     ]
    }
   ],
   "source": [
    "import requests\n",
    "from pathlib import Path\n",
    "from tqdm import tqdm\n",
    "\n",
    "local_path = './models/Meta-Llama-3-8B-Instruct.Q4_0.gguf'\n",
    "Path(local_path).parent.mkdir(parents=True, exist_ok=True)\n",
    "\n",
    "url = \"https://gpt4all.io/models/gguf/Meta-Llama-3-8B-Instruct.Q4_0.gguf\"\n",
    "# send a GET request to the URL to download the file.\n",
    "response = requests.get(url, stream=True)\n",
    "\n",
    "# open the file in binary mode and write the contents of the response\n",
    "# to it in chunks.\n",
    "with open(local_path, 'wb') as f:\n",
    "    for chunk in tqdm(response.iter_content(chunk_size=8192)):\n",
    "        if chunk:\n",
    "            f.write(chunk)"
   ]
  },
  {
   "cell_type": "code",
   "execution_count": 1,
   "metadata": {},
   "outputs": [],
   "source": [
    "from langchain_community.llms import GPT4All\n",
    "from langchain_core.prompts import PromptTemplate\n",
    "from langchain_core.callbacks.base import BaseCallbackManager\n",
    "from langchain_core.callbacks.streaming_stdout import StreamingStdOutCallbackHandler"
   ]
  },
  {
   "cell_type": "code",
   "execution_count": 2,
   "metadata": {},
   "outputs": [],
   "source": [
    "template = \"\"\"Question: {question}\n",
    "Answer: Let's think step by step.\"\"\"\n",
    "prompt = PromptTemplate(template=template, input_variables=[\"question\"])"
   ]
  },
  {
   "cell_type": "code",
   "execution_count": 3,
   "metadata": {},
   "outputs": [
    {
     "name": "stdout",
     "output_type": "stream",
     "text": [
      " It gets cold! (get it?) \n",
      "\n",
      "(Sorry, I couldn't resist!) \n",
      "\n",
      "But seriously, putting cheese in the fridge will slow down its aging process and help preserve its quality. The ideal storage temperature for most cheeses is between 35°F to 45°F (2°C to 7°C). This helps prevent bacterial growth and keeps the cheese fresh for a longer period.\n",
      "\n",
      "Now, if you'll excuse me, I'm off to put some cheddar in the fridge! \n",
      "\n",
      "(Okay, okay, I know... it's still cheesy!)"
     ]
    },
    {
     "data": {
      "text/plain": [
       "\" It gets cold! (get it?) \\n\\n(Sorry, I couldn't resist!) \\n\\nBut seriously, putting cheese in the fridge will slow down its aging process and help preserve its quality. The ideal storage temperature for most cheeses is between 35°F to 45°F (2°C to 7°C). This helps prevent bacterial growth and keeps the cheese fresh for a longer period.\\n\\nNow, if you'll excuse me, I'm off to put some cheddar in the fridge! \\n\\n(Okay, okay, I know... it's still cheesy!)\""
      ]
     },
     "execution_count": 3,
     "metadata": {},
     "output_type": "execute_result"
    }
   ],
   "source": [
    "callback_manager = BaseCallbackManager([StreamingStdOutCallbackHandler()])\n",
    "\n",
    "# Set up prompt template\n",
    "prompt = PromptTemplate.from_template(\"Question: {question}\\nAnswer:\")\n",
    "\n",
    "# Load GGUF model (ensure path and model are correct)\n",
    "llm = GPT4All(\n",
    "    model=\"models/Meta-Llama-3-8B-Instruct.Q4_0.gguf\",\n",
    "    callbacks=callback_manager,\n",
    "    verbose=True\n",
    ")\n",
    "\n",
    "# Compose prompt + model into a runnable\n",
    "llm_chain = prompt | llm\n",
    "\n",
    "llm_chain.invoke({\"question\": \"What happens when you put cheese in the fridge?\"})"
   ]
  }
 ],
 "metadata": {
  "kernelspec": {
   "display_name": "jump",
   "language": "python",
   "name": "python3"
  },
  "language_info": {
   "codemirror_mode": {
    "name": "ipython",
    "version": 3
   },
   "file_extension": ".py",
   "mimetype": "text/x-python",
   "name": "python",
   "nbconvert_exporter": "python",
   "pygments_lexer": "ipython3",
   "version": "3.10.18"
  }
 },
 "nbformat": 4,
 "nbformat_minor": 2
}
